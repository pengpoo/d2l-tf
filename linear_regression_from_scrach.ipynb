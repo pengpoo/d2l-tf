{
 "cells": [
  {
   "cell_type": "markdown",
   "metadata": {},
   "source": [
    "### 1. 导入包"
   ]
  },
  {
   "cell_type": "code",
   "execution_count": 1,
   "metadata": {},
   "outputs": [
    {
     "name": "stdout",
     "output_type": "stream",
     "text": [
      "2.3.0\n"
     ]
    }
   ],
   "source": [
    "%matplotlib inline\n",
    "import tensorflow as tf\n",
    "print(tf.__version__)\n",
    "from matplotlib import pyplot as plt\n",
    "import random"
   ]
  },
  {
   "cell_type": "markdown",
   "metadata": {},
   "source": [
    "### 2. 生成数据集\n",
    "设训练数据集样本量为1000，特征数为2。给定随机生成的批量样本特征 $X\\in\\mathcal{R}^{1000\\times2}$，使用线性回归模型的真实权重为 $\\omega=[2, -3.4]^T$，偏差为 $b=4.2$，以及一个服从均值为0、标准差为0.01的正态分布的随机噪声项 $\\epsilon$，来生成标签 $$y=X\\omega+b+\\epsilon$$\n",
    "噪声代表了数据集中无意义的干扰。"
   ]
  },
  {
   "cell_type": "code",
   "execution_count": 2,
   "metadata": {},
   "outputs": [],
   "source": [
    "def synthetic_data(w, b, num_examples):\n",
    "    X = tf.random.normal([num_examples, len(w)], 0, 1)\n",
    "    y = tf.matmul(X, w) + b\n",
    "    y += tf.random.normal(y.shape, mean=0, stddev=0.01)\n",
    "    return X, y"
   ]
  },
  {
   "cell_type": "code",
   "execution_count": 3,
   "metadata": {},
   "outputs": [],
   "source": [
    "true_w = tf.constant([2, -3.4], shape=[2,1])\n",
    "true_b = 4.2\n",
    "features, labels = synthetic_data(true_w, true_b, 1000)"
   ]
  },
  {
   "cell_type": "code",
   "execution_count": 5,
   "metadata": {},
   "outputs": [
    {
     "data": {
      "text/plain": [
       "TensorShape([1000, 2])"
      ]
     },
     "execution_count": 5,
     "metadata": {},
     "output_type": "execute_result"
    }
   ],
   "source": [
    "features.shape"
   ]
  },
  {
   "cell_type": "code",
   "execution_count": 4,
   "metadata": {},
   "outputs": [
    {
     "data": {
      "text/plain": [
       "TensorShape([1000, 1])"
      ]
     },
     "execution_count": 4,
     "metadata": {},
     "output_type": "execute_result"
    }
   ],
   "source": [
    "labels.shape"
   ]
  },
  {
   "cell_type": "code",
   "execution_count": 6,
   "metadata": {},
   "outputs": [
    {
     "name": "stdout",
     "output_type": "stream",
     "text": [
      "features: tf.Tensor([ 0.9310991 -0.9638597], shape=(2,), dtype=float32) \n",
      "label: tf.Tensor([9.344812], shape=(1,), dtype=float32)\n"
     ]
    }
   ],
   "source": [
    "print('features:', features[0], '\\nlabel:', labels[0])"
   ]
  },
  {
   "cell_type": "markdown",
   "metadata": {},
   "source": [
    "分别生成两个特征和标签的散点图，观察线性关系"
   ]
  },
  {
   "cell_type": "code",
   "execution_count": 9,
   "metadata": {},
   "outputs": [
    {
     "data": {
      "text/plain": [
       "<matplotlib.collections.PathCollection at 0x1d6a0cfc1f0>"
      ]
     },
     "execution_count": 9,
     "metadata": {},
     "output_type": "execute_result"
    },
    {
     "data": {
      "image/png": "[encoded data removed]",
      "text/plain": [
       "<Figure size 252x180 with 1 Axes>"
      ]
     },
     "metadata": {
      "needs_background": "light"
     },
     "output_type": "display_data"
    }
   ],
   "source": [
    "def plot_config(figsize=(3.5, 2.5)):\n",
    "    plt.rcParams['figure.figsize'] = figsize\n",
    "\n",
    "plot_config()\n",
    "plt.scatter(features[:, 0], labels, 1)"
   ]
  },
  {
   "cell_type": "code",
   "execution_count": 10,
   "metadata": {},
   "outputs": [
    {
     "data": {
      "text/plain": [
       "<matplotlib.collections.PathCollection at 0x1d6a0d546a0>"
      ]
     },
     "execution_count": 10,
     "metadata": {},
     "output_type": "execute_result"
    },
    {
     "data": {
      "image/png": "[encoded data removed]",
      "text/plain": [
       "<Figure size 252x180 with 1 Axes>"
      ]
     },
     "metadata": {
      "needs_background": "light"
     },
     "output_type": "display_data"
    }
   ],
   "source": [
    "plt.scatter(features[:, 1], labels, 1)"
   ]
  },
  {
   "cell_type": "markdown",
   "metadata": {},
   "source": [
    "### 3. 读取数据集\n",
    "小批量随机梯度下降\n",
    "训练数据集时要对数据集进行遍历，每次抽取一个小批量，用来更新模型参数。\n",
    "定义一个函数，打乱数据集中的样本，并以小批量方式获取数据。"
   ]
  },
  {
   "cell_type": "code",
   "execution_count": 11,
   "metadata": {},
   "outputs": [],
   "source": [
    "def data_iter(batch_size, features, labels):\n",
    "    num_examples = len(features)\n",
    "    indices = list(range(num_examples))\n",
    "    random.shuffle(indices)\n",
    "    for i in range(0, num_examples, batch_size):\n",
    "        j = indices[i : min(i+batch_size, num_examples)]\n",
    "        yield tf.gather(features, axis=0, indices=j), tf.gather(labels, axis=0, indices=j)"
   ]
  },
  {
   "cell_type": "code",
   "execution_count": 12,
   "metadata": {},
   "outputs": [
    {
     "name": "stdout",
     "output_type": "stream",
     "text": [
      "tf.Tensor(\n",
      "[[ 1.3795706   1.7452172 ]\n",
      " [-1.4717827  -1.5257796 ]\n",
      " [-0.10258761 -1.709245  ]\n",
      " [ 0.17593752  0.7082738 ]\n",
      " [-0.6206082  -1.331803  ]\n",
      " [ 1.3618513   0.46835485]\n",
      " [ 0.5188187   1.1547335 ]\n",
      " [ 0.2512547  -1.641773  ]\n",
      " [-1.0031388  -1.2994576 ]\n",
      " [-2.7303631   0.04354316]], shape=(10, 2), dtype=float32) tf.Tensor(\n",
      "[[ 1.0226113]\n",
      " [ 6.434121 ]\n",
      " [ 9.817126 ]\n",
      " [ 2.1416318]\n",
      " [ 7.498409 ]\n",
      " [ 5.32462  ]\n",
      " [ 1.3160585]\n",
      " [10.286432 ]\n",
      " [ 6.6344995]\n",
      " [-1.4256414]], shape=(10, 1), dtype=float32)\n"
     ]
    }
   ],
   "source": [
    "batch_size = 10\n",
    "\n",
    "for X, y in data_iter(batch_size, features, labels):\n",
    "    print(X, y)\n",
    "    break"
   ]
  },
  {
   "cell_type": "markdown",
   "metadata": {},
   "source": [
    "### 4. 初始化模型参数\n",
    "将权重初始化为均值为0，标准差为0.01的正态随机数，偏差初始化为0"
   ]
  },
  {
   "cell_type": "code",
   "execution_count": 14,
   "metadata": {},
   "outputs": [],
   "source": [
    "w = tf.Variable(tf.random.normal([len(true_w), 1], mean=0, stddev=0.01))\n",
    "b = tf.Variable(tf.zeros((1, )))"
   ]
  },
  {
   "cell_type": "code",
   "execution_count": 15,
   "metadata": {},
   "outputs": [
    {
     "data": {
      "text/plain": [
       "<tf.Variable 'Variable:0' shape=(2, 1) dtype=float32, numpy=\n",
       "array([[-0.00152149],\n",
       "       [-0.01127949]], dtype=float32)>"
      ]
     },
     "execution_count": 15,
     "metadata": {},
     "output_type": "execute_result"
    }
   ],
   "source": [
    "w"
   ]
  },
  {
   "cell_type": "code",
   "execution_count": 16,
   "metadata": {},
   "outputs": [
    {
     "data": {
      "text/plain": [
       "<tf.Variable 'Variable:0' shape=(1,) dtype=float32, numpy=array([0.], dtype=float32)>"
      ]
     },
     "execution_count": 16,
     "metadata": {},
     "output_type": "execute_result"
    }
   ],
   "source": [
    "b"
   ]
  },
  {
   "cell_type": "markdown",
   "metadata": {},
   "source": [
    "### 5. 定义模型"
   ]
  },
  {
   "cell_type": "code",
   "execution_count": 21,
   "metadata": {},
   "outputs": [],
   "source": [
    "def linreg(X, w, b):\n",
    "    return tf.matmul(X, w) + b"
   ]
  },
  {
   "cell_type": "markdown",
   "metadata": {},
   "source": []
  },
  {
   "cell_type": "markdown",
   "metadata": {},
   "source": [
    "### 6. 定义损失函数"
   ]
  },
  {
   "cell_type": "code",
   "execution_count": 22,
   "metadata": {},
   "outputs": [],
   "source": [
    "def squared_loss(y_hat, y):\n",
    "    return (y_hat - tf.reshape(y, y_hat.shape)) ** 2 / 2"
   ]
  },
  {
   "cell_type": "markdown",
   "metadata": {},
   "source": [
    "### 7. 定义优化算法\n",
    "`sgd`函数实现小批量随机梯度下降，通过不断迭代模型参数来优化损失函数。\n",
    "由于自动求梯度模块求得的是一个批量样本的梯度和，将它除以批量的大小得到平均值。"
   ]
  },
  {
   "cell_type": "code",
   "execution_count": 23,
   "metadata": {},
   "outputs": [],
   "source": [
    "def sgd(params, lr, batch_size, grads):\n",
    "    for i, param in enumerate(params):\n",
    "        param.assign_sub(lr * grads[i] / batch_size)\n",
    "        # 等价于 param = param - lr * grads[i] / batch_size"
   ]
  },
  {
   "cell_type": "markdown",
   "metadata": {},
   "source": [
    "`tf.assign()` <br>\n",
    "`tf.assign_add()` <br>\n",
    "`tf.assign_sub()` <br>\n",
    "用法"
   ]
  },
  {
   "cell_type": "markdown",
   "metadata": {},
   "source": [
    "### 8. 训练模型\n"
   ]
  },
  {
   "cell_type": "code",
   "execution_count": 27,
   "metadata": {},
   "outputs": [],
   "source": [
    "lr = 0.03\n",
    "num_epochs = 3\n",
    "net = linreg\n",
    "loss = squared_loss"
   ]
  },
  {
   "cell_type": "code",
   "execution_count": 28,
   "metadata": {},
   "outputs": [
    {
     "name": "stdout",
     "output_type": "stream",
     "text": [
      "epoch 1, loss 0.042487\n",
      "epoch 2, loss 0.000169\n",
      "epoch 3, loss 0.000051\n"
     ]
    }
   ],
   "source": [
    "for epoch in range(num_epochs):\n",
    "    for X, y in data_iter(batch_size, features, labels):\n",
    "        with tf.GradientTape() as t:\n",
    "            t.watch([w, b])\n",
    "            l = tf.reduce_sum(loss(net(X, w, b), y))\n",
    "        grads = t.gradient(l, [w, b])\n",
    "        sgd([w, b], lr, batch_size, grads)\n",
    "    train_l = loss(net(features, w, b), labels)\n",
    "    print('epoch %d, loss %f' %(epoch+1, tf.reduce_mean(train_l)))"
   ]
  },
  {
   "cell_type": "code",
   "execution_count": 31,
   "metadata": {},
   "outputs": [
    {
     "name": "stdout",
     "output_type": "stream",
     "text": [
      "<tf.Variable 'Variable:0' shape=(2, 1) dtype=float32, numpy=\n",
      "array([[ 1.9989198],\n",
      "       [-3.4000285]], dtype=float32)>\n"
     ]
    }
   ],
   "source": [
    "print(w)"
   ]
  },
  {
   "cell_type": "code",
   "execution_count": 32,
   "metadata": {},
   "outputs": [
    {
     "name": "stdout",
     "output_type": "stream",
     "text": [
      "<tf.Variable 'Variable:0' shape=(1,) dtype=float32, numpy=array([4.199573], dtype=float32)>\n"
     ]
    }
   ],
   "source": [
    "print(b)"
   ]
  },
  {
   "cell_type": "markdown",
   "metadata": {},
   "source": [
    "----"
   ]
  },
  {
   "cell_type": "markdown",
   "metadata": {},
   "source": [
    ":penguin: **`tf.random.normal()`**\n",
    "```python\n",
    "tf.random.normal(\n",
    "    shape,\n",
    "    mean=0.0,\n",
    "    stddev=1.0,\n",
    "    dtype=tf.dtypes.float32,\n",
    "    seed=None,\n",
    "    name=None\n",
    ")\n",
    "```\n",
    "Returns:\n",
    "A tensor of the specified shape filled with random normal values."
   ]
  },
  {
   "cell_type": "markdown",
   "metadata": {},
   "source": [
    "----"
   ]
  },
  {
   "cell_type": "markdown",
   "metadata": {},
   "source": [
    ":penguin: **`tf.constant()`**\n",
    "```python\n",
    "tf.constant(\n",
    "    value, dtype=None, shape=None, name='Const'\n",
    ")\n",
    "```\n",
    "Returns:\n",
    "A Constant Tensor. 返回一个 Tensor 常量\n",
    "\n",
    "- 当指定 `shape` 时，`value`值可被 reshape\n",
    "\n",
    "`tf.constant` will create tensors on the current device. Inputs which are already tensors maintain their placements unchanged."
   ]
  },
  {
   "cell_type": "markdown",
   "metadata": {},
   "source": [
    "----"
   ]
  },
  {
   "cell_type": "markdown",
   "metadata": {},
   "source": [
    ":penguin: `tf.matmul()`\n",
    "```python\n",
    "tf.linalg.matmul(\n",
    "    a,\n",
    "    b,\n",
    "    transpose_a=False,\n",
    "    transpose_b=False,\n",
    "    adjoint_a=False,\n",
    "    adjoint_b=False,\n",
    "    a_is_sparse=False,\n",
    "    b_is_sparse=False,\n",
    "    output_type=None,\n",
    "    name=None\n",
    ")\n",
    "```\n",
    "- 矩阵乘法\n",
    "- 输入必须在任何转换之后是 rank> = 2 的张量,其中内部 2 维度指定有效的矩阵乘法参数,并且任何其他外部维度匹配。\n",
    "- 两个相乘矩阵的数据类型必须相同。\n",
    "- 通过将相应的参数设置为 `Ture`，矩阵可以被转置（transpose）或作共轭变换/共轭转置（adjoint）。\n",
    "- 如果一个或两个矩阵包含很多的零,则可以通过将相应的 `a_is_sparse` 或 `b_is_sparse` 标志设置为 `True` 来使用更有效的乘法算法。\n",
    "\n",
    "2维张量矩阵相乘例子\n",
    "\n",
    "![屏幕截图 2022-04-20 163633](https://note-pics-1305201806.cos.ap-nanjing.myqcloud.com/2022/04/20/163722.png)\n",
    "\n",
    "A batch matrix multiplication with batch shape [2]\n",
    "\n",
    "![image-20220420163903661](https://note-pics-1305201806.cos.ap-nanjing.myqcloud.com/2022/04/20/163906.png)\n",
    "python 版本 >= 3.5, 支持 `@` 运算符，下面两行代码等价\n",
    "```python\n",
    "d = a @ b @ [[10], [11]]\n",
    "d = tf.matmul(tf.matmul(a, b), [[10], [11]])\n",
    "```"
   ]
  },
  {
   "cell_type": "markdown",
   "metadata": {},
   "source": [
    "----"
   ]
  },
  {
   "cell_type": "markdown",
   "metadata": {},
   "source": [
    ":penguin: `python`中的`yield`\n",
    "\n",
    "`return` 返回函数的所有执行结果\n",
    "\n",
    "`yield` 返回一个可迭代的生成器对象，可以使用 `for` 循环或调用 `next()` 方法遍历生成器来获得结果。"
   ]
  },
  {
   "cell_type": "markdown",
   "metadata": {},
   "source": [
    "----"
   ]
  },
  {
   "cell_type": "markdown",
   "metadata": {},
   "source": [
    ":penguin: `random.shuffle()`\n",
    "\n",
    "用于将一个列表中的元素打乱。将原列表内元素顺序打乱，不会重新再生成一个列表。\n",
    "\n",
    "`data_iter` 函数要会写"
   ]
  },
  {
   "cell_type": "markdown",
   "metadata": {},
   "source": [
    "----"
   ]
  },
  {
   "cell_type": "markdown",
   "metadata": {},
   "source": [
    ":penguin: `tf.gather` 用法\n",
    "\n",
    "```python\n",
    "tf.gather(\n",
    "    params, indices, axis=None, batch_dims=0, name=None\n",
    ")\n",
    "```\n",
    "|args|meanings|\n",
    "|:---:|:---:|\n",
    "|params|The Tensor from which to gather values.|\n",
    "|indices|The index Tensor. Must be one of the following types: `int32`, `int64`. The values must be in `range([0, params.shape[axis])`|\n",
    "|axis|A Tensor. Must be one of the following types: `int32`, `int64`. The axis in params to gather indices from. Must be greater than or equal to `batch_dims`. Defaults to the first non-batch dimension. Supports negative indexes.|\n",
    "|batch_dims|An integer. Must be less than or equal to rank(indices).|\n",
    "|name|A name for the operation (optional).|\n",
    "\n",
    "Returns:\n",
    "A Tensor. Has the same type as params.\n",
    "\n",
    "`batch_dims` 参数\n",
    "\n",
    "使用 `batch_dims=1` 相当于在 `params` 和 `indices` 的第一个轴上有一个外循环：\n",
    "```python\n",
    "params = tf.constant([\n",
    "    [0, 0, 1, 0, 2],\n",
    "    [3, 0, 0, 0, 4],\n",
    "    [0, 5, 0, 6, 0]])\n",
    "indices = tf.constant([\n",
    "    [2, 4],\n",
    "    [0, 4],\n",
    "    [1, 3]])\n",
    "tf.gather(params, indices, axis=1, batch_dims=1).numpy()\n",
    "# 输出为\n",
    ">>> array([[1, 2],\n",
    "           [3, 4],\n",
    "           [5, 6]], dtype=int32)\n",
    "# 相当于\n",
    "def manually_batched_gather(params, indices, axis):\n",
    "    batch_dims=1\n",
    "    result = []\n",
    "    for p,i in zip(params, indices):\n",
    "        r = tf.gather(p, i, axis=axis-batch_dims)\n",
    "        result.append(r)\n",
    "    return tf.stack(result)\n",
    "manually_batched_gather(params, indices, axis=1).numpy()\n",
    "# 输出为\n",
    ">>> array([[1, 2],\n",
    "           [3, 4],\n",
    "           [5, 6]], dtype=int32)"
   ]
  },
  {
   "cell_type": "code",
   "execution_count": 2,
   "metadata": {},
   "outputs": [],
   "source": [
    "import tensorflow as tf"
   ]
  },
  {
   "cell_type": "code",
   "execution_count": 3,
   "metadata": {},
   "outputs": [],
   "source": [
    "params = tf.constant([\n",
    "    [0, 0, 1, 0, 2],\n",
    "    [3, 0, 0, 0, 4],\n",
    "    [0, 5, 0, 6, 0]])"
   ]
  },
  {
   "cell_type": "code",
   "execution_count": 4,
   "metadata": {},
   "outputs": [
    {
     "data": {
      "text/plain": [
       "TensorShape([3, 5])"
      ]
     },
     "execution_count": 4,
     "metadata": {},
     "output_type": "execute_result"
    }
   ],
   "source": [
    "params.shape"
   ]
  },
  {
   "cell_type": "code",
   "execution_count": 5,
   "metadata": {},
   "outputs": [],
   "source": [
    "indices = tf.constant([\n",
    "    [2, 4],\n",
    "    [0, 4],\n",
    "    [1, 3]])"
   ]
  },
  {
   "cell_type": "code",
   "execution_count": 11,
   "metadata": {},
   "outputs": [],
   "source": [
    "a = tf.gather(params, indices, axis=1, batch_dims=0)"
   ]
  },
  {
   "cell_type": "code",
   "execution_count": 12,
   "metadata": {},
   "outputs": [
    {
     "data": {
      "text/plain": [
       "TensorShape([3, 3, 2])"
      ]
     },
     "execution_count": 12,
     "metadata": {},
     "output_type": "execute_result"
    }
   ],
   "source": [
    "a.shape"
   ]
  },
  {
   "cell_type": "code",
   "execution_count": 15,
   "metadata": {},
   "outputs": [
    {
     "data": {
      "text/plain": [
       "array([[[1, 2],\n",
       "        [0, 2],\n",
       "        [0, 0]],\n",
       "\n",
       "       [[0, 4],\n",
       "        [3, 4],\n",
       "        [0, 0]],\n",
       "\n",
       "       [[0, 0],\n",
       "        [0, 0],\n",
       "        [5, 6]]])"
      ]
     },
     "execution_count": 15,
     "metadata": {},
     "output_type": "execute_result"
    }
   ],
   "source": [
    "a.numpy()"
   ]
  },
  {
   "cell_type": "code",
   "execution_count": 13,
   "metadata": {},
   "outputs": [],
   "source": [
    "b = tf.gather(params, indices, axis=1, batch_dims=1)"
   ]
  },
  {
   "cell_type": "code",
   "execution_count": 14,
   "metadata": {},
   "outputs": [
    {
     "data": {
      "text/plain": [
       "TensorShape([3, 2])"
      ]
     },
     "execution_count": 14,
     "metadata": {},
     "output_type": "execute_result"
    }
   ],
   "source": [
    "b.shape"
   ]
  },
  {
   "cell_type": "code",
   "execution_count": 16,
   "metadata": {},
   "outputs": [
    {
     "data": {
      "text/plain": [
       "array([[1, 2],\n",
       "       [3, 4],\n",
       "       [5, 6]])"
      ]
     },
     "execution_count": 16,
     "metadata": {},
     "output_type": "execute_result"
    }
   ],
   "source": [
    "b.numpy()"
   ]
  },
  {
   "cell_type": "markdown",
   "metadata": {},
   "source": [
    ":penguin: `tf.Variable`\n",
    "```python\n",
    "tf.Variable(\n",
    "    initializer,\n",
    "    name\n",
    ")\n",
    "```\n",
    "一般初始化时使用，`initializer` 是初始化参数，可以有`tf.random_normal`，`tf.constant`，name可选，张量的名字，\n",
    "\n",
    "\n",
    ":penguin: `tf.reshape`\n",
    "```python\n",
    "tf.reshape(\n",
    "    tensor, shape, name=None\n",
    ")\n",
    "```\n",
    "![image-20220420221631138](https://note-pics-1305201806.cos.ap-nanjing.myqcloud.com/2022/04/20/221633.png)\n",
    "\n",
    "Returns:\n",
    "A Tensor. Has the same type as tensor.\n"
   ]
  },
  {
   "cell_type": "markdown",
   "metadata": {},
   "source": [
    ":penguin: `tf.GradientTape`"
   ]
  }
 ],
 "metadata": {
  "interpreter": {
   "hash": "aba92aca747a84f2a6e0a96807c6cf8757cbea53e04f2552b88e7df0ec4f1b98"
  },
  "kernelspec": {
   "display_name": "tf2",
   "language": "python",
   "name": "tf"
  },
  "language_info": {
   "codemirror_mode": {
    "name": "ipython",
    "version": 3
   },
   "file_extension": ".py",
   "mimetype": "text/x-python",
   "name": "python",
   "nbconvert_exporter": "python",
   "pygments_lexer": "ipython3",
   "version": "3.8.13"
  },
  "orig_nbformat": 4
 },
 "nbformat": 4,
 "nbformat_minor": 2
}
